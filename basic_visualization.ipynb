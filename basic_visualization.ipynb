{
 "cells": [
  {
   "cell_type": "code",
   "execution_count": 44,
   "metadata": {},
   "outputs": [],
   "source": [
    "import json\n",
    "\n",
    "with open('planned_courses.json') as f:\n",
    "    planned_courses = json.load(f)"
   ]
  },
  {
   "cell_type": "code",
   "execution_count": 45,
   "metadata": {},
   "outputs": [
    {
     "name": "stdout",
     "output_type": "stream",
     "text": [
      "Number of users: 1457\n",
      "Number of real users: 976\n"
     ]
    }
   ],
   "source": [
    "print('Number of users:', len(planned_courses))\n",
    "\n",
    "for user in list(planned_courses.keys()):\n",
    "    num = 0\n",
    "    for quarter in planned_courses[user]:\n",
    "        num += len(planned_courses[user][quarter])\n",
    "    if num == 0:\n",
    "        del planned_courses[user]\n",
    "\n",
    "print('Number of real users:', len(planned_courses))"
   ]
  },
  {
   "cell_type": "code",
   "execution_count": 46,
   "metadata": {},
   "outputs": [],
   "source": [
    "# number of classes pinned\n",
    "\n",
    "import matplotlib.pyplot as plt\n",
    "from collections import defaultdict\n",
    "\n",
    "num_classes = defaultdict(int)\n",
    "\n",
    "for user in planned_courses:\n",
    "    num = 0\n",
    "    for quarter in planned_courses[user]:\n",
    "        num += len(planned_courses[user][quarter])\n",
    "    num_classes[num] += 1"
   ]
  },
  {
   "cell_type": "code",
   "execution_count": 47,
   "metadata": {},
   "outputs": [
    {
     "data": {
      "text/plain": [
       "(0.0, 60.0)"
      ]
     },
     "execution_count": 47,
     "metadata": {},
     "output_type": "execute_result"
    },
    {
     "data": {
      "image/png": "[encoded data removed]",
      "text/plain": [
       "<Figure size 640x480 with 1 Axes>"
      ]
     },
     "metadata": {},
     "output_type": "display_data"
    }
   ],
   "source": [
    "plt.bar(list(num_classes.keys()), list(num_classes.values()))\n",
    "plt.title('Distribution of Classes Pinned')\n",
    "plt.xlabel('Number of classes pinned')\n",
    "plt.ylabel('Number of students')\n",
    "plt.xlim(0, 60)"
   ]
  },
  {
   "cell_type": "code",
   "execution_count": 52,
   "metadata": {},
   "outputs": [],
   "source": [
    "classes = defaultdict(int)\n",
    "\n",
    "for user in planned_courses:\n",
    "    for quarter in planned_courses[user]:\n",
    "        if quarter != '2023-0': continue\n",
    "        for course in planned_courses[user][quarter]:\n",
    "            classes[course] += 1"
   ]
  },
  {
   "cell_type": "code",
   "execution_count": 53,
   "metadata": {},
   "outputs": [],
   "source": [
    "class_list = [(classes[course], course) for course in classes]\n",
    "class_list.sort(reverse=True)"
   ]
  },
  {
   "cell_type": "code",
   "execution_count": 60,
   "metadata": {},
   "outputs": [
    {
     "name": "stdout",
     "output_type": "stream",
     "text": [
      "1. COLLEGE101 (107)\n",
      "2. CS109 (98)\n",
      "3. CS106B (93)\n",
      "4. MATH51 (72)\n",
      "5. MATH21 (69)\n",
      "6. CS106A (61)\n",
      "7. CS107 (54)\n",
      "8. PSYCH1 (51)\n",
      "9. CS148 (49)\n",
      "10. CS111 (46)\n",
      "11. BIO83 (43)\n",
      "12. MS&E472 (42)\n",
      "13. SYMSYS1 (41)\n",
      "14. CS221 (40)\n",
      "15. CS103 (39)\n",
      "16. ECON1 (37)\n",
      "17. CHEM121 (35)\n",
      "18. BIO81 (34)\n",
      "19. PHYSICS41 (33)\n",
      "20. CHEM31M (33)\n",
      "21. CS238 (32)\n",
      "22. MATH19 (31)\n",
      "23. EARTHSYS10 (31)\n",
      "24. CHEM31A (29)\n",
      "25. ECON3 (28)\n",
      "26. CS229 (28)\n",
      "27. ECON50 (26)\n",
      "28. CS149 (25)\n",
      "29. UAR194B (23)\n",
      "30. CS145 (23)\n"
     ]
    }
   ],
   "source": [
    "for i, course in enumerate(class_list[:30]):\n",
    "    print(f\"{i+1}. {course[1]} ({course[0]})\")"
   ]
  },
  {
   "cell_type": "code",
   "execution_count": null,
   "metadata": {},
   "outputs": [],
   "source": []
  }
 ],
 "metadata": {
  "kernelspec": {
   "display_name": "2023",
   "language": "python",
   "name": "python3"
  },
  "language_info": {
   "codemirror_mode": {
    "name": "ipython",
    "version": 3
   },
   "file_extension": ".py",
   "mimetype": "text/x-python",
   "name": "python",
   "nbconvert_exporter": "python",
   "pygments_lexer": "ipython3",
   "version": "3.11.4"
  }
 },
 "nbformat": 4,
 "nbformat_minor": 2
}
