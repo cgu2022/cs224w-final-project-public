{
 "cells": [
  {
   "cell_type": "markdown",
   "metadata": {},
   "source": [
    "# Milestone: LightGCN Course Recommender\n",
    "Borrows code from Hikaru Hotta and Ada Zhou, https://medium.com/stanford-cs224w/lightgcn-with-pytorch-geometric-91bab836471e"
   ]
  },
  {
   "cell_type": "code",
   "execution_count": 2,
   "metadata": {},
   "outputs": [],
   "source": [
    "import json\n",
    "import random\n",
    "from tqdm import tqdm\n",
    "import pandas as pd\n",
    "import numpy as np\n",
    "import matplotlib.pyplot as plt\n",
    "from sklearn.model_selection import train_test_split\n",
    "\n",
    "import torch\n",
    "from torch import nn, optim, Tensor\n",
    "\n",
    "from torch_sparse import SparseTensor, matmul\n",
    "\n",
    "from torch_geometric.utils import structured_negative_sampling\n",
    "from torch_geometric.nn.conv.gcn_conv import gcn_norm\n",
    "from torch_geometric.nn.conv import MessagePassing"
   ]
  },
  {
   "cell_type": "markdown",
   "metadata": {},
   "source": [
    "## Load Dataset"
   ]
  },
  {
   "cell_type": "code",
   "execution_count": 3,
   "metadata": {},
   "outputs": [
    {
     "name": "stdout",
     "output_type": "stream",
     "text": [
      "# of real users: 976\n",
      "# of courses: 2745\n",
      "# of edges: 13828\n"
     ]
    }
   ],
   "source": [
    "with open('planned_courses.json') as f:\n",
    "    planned_courses = json.load(f)\n",
    "\n",
    "userIds = {}\n",
    "courseIds = {}\n",
    "numEdges = 0\n",
    "\n",
    "# clean up data, create userIds and courseIds\n",
    "\n",
    "for user in list(planned_courses.keys()):\n",
    "    num = 0\n",
    "    for quarter in planned_courses[user]:\n",
    "        num += len(planned_courses[user][quarter])\n",
    "        for course in planned_courses[user][quarter]:\n",
    "            if course not in courseIds:\n",
    "                courseIds[course] = len(courseIds)\n",
    "    numEdges += num\n",
    "\n",
    "    if num == 0:\n",
    "        del planned_courses[user]\n",
    "    else:\n",
    "        userIds[user] = len(userIds)\n",
    "\n",
    "print('# of real users:', len(userIds))\n",
    "print('# of courses:', len(courseIds))\n",
    "print('# of edges:', numEdges)"
   ]
  },
  {
   "cell_type": "code",
   "execution_count": 4,
   "metadata": {},
   "outputs": [],
   "source": [
    "# create edge_index\n",
    "j = 0\n",
    "edge_index = torch.zeros((2, numEdges), dtype=int)\n",
    "for user in planned_courses:\n",
    "    for quarter in planned_courses[user]:\n",
    "        for course in planned_courses[user][quarter]:\n",
    "            edge_index[0][j] = userIds[user]\n",
    "            edge_index[1][j] = courseIds[course]\n",
    "            j += 1"
   ]
  },
  {
   "cell_type": "code",
   "execution_count": 5,
   "metadata": {},
   "outputs": [],
   "source": [
    "# split the edges of the graph using a 80/10/10 train/validation/test split\n",
    "num_users, num_courses = len(userIds), len(courseIds)\n",
    "numNodes = num_users + num_courses\n",
    "all_edge_indices = [i for i in range(numEdges)]\n",
    "\n",
    "train_edge_indices, test_edge_indices = train_test_split(all_edge_indices, test_size=0.2, random_state=1)\n",
    "val_edge_indices, test_edge_indices = train_test_split(test_edge_indices, test_size=0.5, random_state=1)\n",
    "\n",
    "train_edge_index = edge_index[:, train_edge_indices]\n",
    "val_edge_index = edge_index[:, val_edge_indices]\n",
    "test_edge_index = edge_index[:, test_edge_indices]"
   ]
  },
  {
   "cell_type": "code",
   "execution_count": 6,
   "metadata": {},
   "outputs": [],
   "source": [
    "# convert edge indices into Sparse Tensors: https://pytorch-geometric.readthedocs.io/en/latest/notes/sparse_tensor.html\n",
    "train_sparse_edge_index = SparseTensor(row=train_edge_index[0], col=train_edge_index[1], sparse_sizes=(numNodes, numNodes))\n",
    "val_sparse_edge_index = SparseTensor(row=val_edge_index[0], col=val_edge_index[1], sparse_sizes=(numNodes, numNodes))\n",
    "test_sparse_edge_index = SparseTensor(row=test_edge_index[0], col=test_edge_index[1], sparse_sizes=(numNodes, numNodes))"
   ]
  },
  {
   "cell_type": "code",
   "execution_count": 7,
   "metadata": {},
   "outputs": [],
   "source": [
    "# function which random samples a mini-batch of positive and negative samples\n",
    "def sample_mini_batch(batch_size, edge_index):\n",
    "    \"\"\"Randomly samples indices of a minibatch given an adjacency matrix\n",
    "\n",
    "    Args:\n",
    "        batch_size (int): minibatch size\n",
    "        edge_index (torch.Tensor): 2 by N list of edges\n",
    "\n",
    "    Returns:\n",
    "        tuple: user indices, positive item indices, negative item indices\n",
    "    \"\"\"\n",
    "    edges = structured_negative_sampling(edge_index)\n",
    "    edges = torch.stack(edges, dim=0)\n",
    "    indices = random.choices(\n",
    "        [i for i in range(edges[0].shape[0])], k=batch_size)\n",
    "    batch = edges[:, indices]\n",
    "    user_indices, pos_item_indices, neg_item_indices = batch[0], batch[1], batch[2]\n",
    "    return user_indices, pos_item_indices, neg_item_indices"
   ]
  },
  {
   "cell_type": "markdown",
   "metadata": {},
   "source": [
    "## Model"
   ]
  },
  {
   "cell_type": "code",
   "execution_count": 8,
   "metadata": {},
   "outputs": [],
   "source": [
    "# defines LightGCN model\n",
    "class LightGCN(MessagePassing):\n",
    "    \"\"\"LightGCN Model as proposed in https://arxiv.org/abs/2002.02126\n",
    "    \"\"\"\n",
    "\n",
    "    def __init__(self, num_users, num_items, embedding_dim=64, K=3, add_self_loops=False):\n",
    "        \"\"\"Initializes LightGCN Model\n",
    "\n",
    "        Args:\n",
    "            num_users (int): Number of users\n",
    "            num_items (int): Number of items\n",
    "            embedding_dim (int, optional): Dimensionality of embeddings. Defaults to 8.\n",
    "            K (int, optional): Number of message passing layers. Defaults to 3.\n",
    "            add_self_loops (bool, optional): Whether to add self loops for message passing. Defaults to False.\n",
    "        \"\"\"\n",
    "        super().__init__()\n",
    "        self.num_users, self.num_items = num_users, num_items\n",
    "        self.embedding_dim, self.K = embedding_dim, K\n",
    "        self.add_self_loops = add_self_loops\n",
    "\n",
    "        self.users_emb = nn.Embedding(num_embeddings=self.num_users, embedding_dim=self.embedding_dim) # e_u^0\n",
    "        self.items_emb = nn.Embedding(num_embeddings=self.num_items, embedding_dim=self.embedding_dim) # e_i^0\n",
    "\n",
    "        nn.init.normal_(self.users_emb.weight, std=0.1)\n",
    "        nn.init.normal_(self.items_emb.weight, std=0.1)\n",
    "\n",
    "    def forward(self, edge_index: SparseTensor):\n",
    "        \"\"\"Forward propagation of LightGCN Model.\n",
    "\n",
    "        Args:\n",
    "            edge_index (SparseTensor): adjacency matrix\n",
    "\n",
    "        Returns:\n",
    "            tuple (Tensor): e_u_k, e_u_0, e_i_k, e_i_0\n",
    "        \"\"\"\n",
    "        # compute \\tilde{A}: symmetrically normalized adjacency matrix\n",
    "        edge_index_norm = gcn_norm(edge_index, add_self_loops=self.add_self_loops)\n",
    "\n",
    "        emb_0 = torch.cat([self.users_emb.weight, self.items_emb.weight]) # E^0\n",
    "        embs = [emb_0]\n",
    "        emb_k = emb_0\n",
    "\n",
    "        # multi-scale diffusion\n",
    "        for i in range(self.K):\n",
    "            emb_k = self.propagate(edge_index_norm, x=emb_k)\n",
    "            embs.append(emb_k)\n",
    "\n",
    "        embs = torch.stack(embs, dim=1)\n",
    "        emb_final = torch.mean(embs, dim=1) # E^K\n",
    "\n",
    "        users_emb_final, items_emb_final = torch.split(emb_final, [self.num_users, self.num_items]) # splits into e_u^K and e_i^K\n",
    "\n",
    "        # returns e_u^K, e_u^0, e_i^K, e_i^0\n",
    "        return users_emb_final, self.users_emb.weight, items_emb_final, self.items_emb.weight\n",
    "\n",
    "    def message(self, x_j: Tensor) -> Tensor:\n",
    "        return x_j\n",
    "\n",
    "    def message_and_aggregate(self, adj_t: SparseTensor, x: Tensor) -> Tensor:\n",
    "        # computes \\tilde{A} @ x\n",
    "        return matmul(adj_t, x)"
   ]
  },
  {
   "cell_type": "code",
   "execution_count": 9,
   "metadata": {},
   "outputs": [],
   "source": [
    "def bpr_loss(users_emb_final, users_emb_0, pos_items_emb_final, pos_items_emb_0, neg_items_emb_final, neg_items_emb_0, lambda_val):\n",
    "    \"\"\"Bayesian Personalized Ranking Loss as described in https://arxiv.org/abs/1205.2618\n",
    "\n",
    "    Args:\n",
    "        users_emb_final (torch.Tensor): e_u_k\n",
    "        users_emb_0 (torch.Tensor): e_u_0\n",
    "        pos_items_emb_final (torch.Tensor): positive e_i_k\n",
    "        pos_items_emb_0 (torch.Tensor): positive e_i_0\n",
    "        neg_items_emb_final (torch.Tensor): negative e_i_k\n",
    "        neg_items_emb_0 (torch.Tensor): negative e_i_0\n",
    "        lambda_val (float): lambda value for regularization loss term\n",
    "\n",
    "    Returns:\n",
    "        torch.Tensor: scalar bpr loss value\n",
    "    \"\"\"\n",
    "    reg_loss = lambda_val * (users_emb_0.norm(2).pow(2) +\n",
    "                             pos_items_emb_0.norm(2).pow(2) +\n",
    "                             neg_items_emb_0.norm(2).pow(2)) # L2 loss\n",
    "\n",
    "    pos_scores = torch.mul(users_emb_final, pos_items_emb_final)\n",
    "    pos_scores = torch.sum(pos_scores, dim=-1) # predicted scores of positive samples\n",
    "    neg_scores = torch.mul(users_emb_final, neg_items_emb_final)\n",
    "    neg_scores = torch.sum(neg_scores, dim=-1) # predicted scores of negative samples\n",
    "\n",
    "    loss = -torch.mean(torch.nn.functional.softplus(pos_scores - neg_scores)) + reg_loss\n",
    "\n",
    "    return loss"
   ]
  },
  {
   "cell_type": "markdown",
   "metadata": {},
   "source": [
    "## Evaluation"
   ]
  },
  {
   "cell_type": "code",
   "execution_count": 10,
   "metadata": {},
   "outputs": [],
   "source": [
    "# helper function to get N_u\n",
    "def get_user_positive_items(edge_index):\n",
    "    \"\"\"Generates dictionary of positive items for each user\n",
    "\n",
    "    Args:\n",
    "        edge_index (torch.Tensor): 2 by N list of edges\n",
    "\n",
    "    Returns:\n",
    "        dict: dictionary of positive items for each user\n",
    "    \"\"\"\n",
    "    user_pos_items = {}\n",
    "    for i in range(edge_index.shape[1]):\n",
    "        user = edge_index[0][i].item()\n",
    "        item = edge_index[1][i].item()\n",
    "        if user not in user_pos_items:\n",
    "            user_pos_items[user] = []\n",
    "        user_pos_items[user].append(item)\n",
    "    return user_pos_items"
   ]
  },
  {
   "cell_type": "code",
   "execution_count": 11,
   "metadata": {},
   "outputs": [],
   "source": [
    "# computes recall@K and precision@K\n",
    "def RecallPrecision_ATk(groundTruth, r, k):\n",
    "    \"\"\"Computers recall @ k and precision @ k\n",
    "\n",
    "    Args:\n",
    "        groundTruth (list): list of lists containing highly rated items of each user\n",
    "        r (list): list of lists indicating whether each top k item recommended to each user\n",
    "            is a top k ground truth item or not\n",
    "        k (intg): determines the top k items to compute precision and recall on\n",
    "\n",
    "    Returns:\n",
    "        tuple: recall @ k, precision @ k\n",
    "    \"\"\"\n",
    "    num_correct_pred = torch.sum(r, dim=-1)  # number of correctly predicted items per user\n",
    "    # number of items liked by each user in the test set\n",
    "    user_num_liked = torch.Tensor([len(groundTruth[i])\n",
    "                                  for i in range(len(groundTruth))])\n",
    "    recall = torch.mean(num_correct_pred / user_num_liked)\n",
    "    precision = torch.mean(num_correct_pred) / k\n",
    "    return recall.item(), precision.item()"
   ]
  },
  {
   "cell_type": "code",
   "execution_count": 12,
   "metadata": {},
   "outputs": [],
   "source": [
    "# computes NDCG@K\n",
    "def NDCGatK_r(groundTruth, r, k):\n",
    "    \"\"\"Computes Normalized Discounted Cumulative Gain (NDCG) @ k\n",
    "\n",
    "    Args:\n",
    "        groundTruth (list): list of lists containing highly rated items of each user\n",
    "        r (list): list of lists indicating whether each top k item recommended to each user\n",
    "            is a top k ground truth item or not\n",
    "        k (int): determines the top k items to compute ndcg on\n",
    "\n",
    "    Returns:\n",
    "        float: ndcg @ k\n",
    "    \"\"\"\n",
    "    assert len(r) == len(groundTruth)\n",
    "\n",
    "    test_matrix = torch.zeros((len(r), k))\n",
    "\n",
    "    for i, items in enumerate(groundTruth):\n",
    "        length = min(len(items), k)\n",
    "        test_matrix[i, :length] = 1\n",
    "    max_r = test_matrix\n",
    "    idcg = torch.sum(max_r * 1. / torch.log2(torch.arange(2, k + 2)), axis=1)\n",
    "    dcg = r * (1. / torch.log2(torch.arange(2, k + 2)))\n",
    "    dcg = torch.sum(dcg, axis=1)\n",
    "    idcg[idcg == 0.] = 1.\n",
    "    ndcg = dcg / idcg\n",
    "    ndcg[torch.isnan(ndcg)] = 0.\n",
    "    return torch.mean(ndcg).item()"
   ]
  },
  {
   "cell_type": "code",
   "execution_count": 13,
   "metadata": {},
   "outputs": [],
   "source": [
    "# wrapper function to get evaluation metrics\n",
    "def get_metrics(model, edge_index, exclude_edge_indices, k):\n",
    "    \"\"\"Computes the evaluation metrics: recall, precision, and ndcg @ k\n",
    "\n",
    "    Args:\n",
    "        model (LighGCN): lightgcn model\n",
    "        edge_index (torch.Tensor): 2 by N list of edges for split to evaluate\n",
    "        exclude_edge_indices ([type]): 2 by N list of edges for split to discount from evaluation\n",
    "        k (int): determines the top k items to compute metrics on\n",
    "\n",
    "    Returns:\n",
    "        tuple: recall @ k, precision @ k, ndcg @ k\n",
    "    \"\"\"\n",
    "    user_embedding = model.users_emb.weight\n",
    "    item_embedding = model.items_emb.weight\n",
    "\n",
    "    # get ratings between every user and item - shape is num users x num movies\n",
    "    rating = torch.matmul(user_embedding, item_embedding.T)\n",
    "\n",
    "    for exclude_edge_index in exclude_edge_indices:\n",
    "        # gets all the positive items for each user from the edge index\n",
    "        user_pos_items = get_user_positive_items(exclude_edge_index)\n",
    "        # get coordinates of all edges to exclude\n",
    "        exclude_users = []\n",
    "        exclude_items = []\n",
    "        for user, items in user_pos_items.items():\n",
    "            exclude_users.extend([user] * len(items))\n",
    "            exclude_items.extend(items)\n",
    "\n",
    "        # set ratings of excluded edges to large negative value\n",
    "        rating[exclude_users, exclude_items] = -(1 << 10)\n",
    "\n",
    "    # get the top k recommended items for each user\n",
    "    _, top_K_items = torch.topk(rating, k=k)\n",
    "\n",
    "    # get all unique users in evaluated split\n",
    "    users = edge_index[0].unique()\n",
    "\n",
    "    test_user_pos_items = get_user_positive_items(edge_index)\n",
    "\n",
    "    # convert test user pos items dictionary into a list\n",
    "    test_user_pos_items_list = [\n",
    "        test_user_pos_items[user.item()] for user in users]\n",
    "\n",
    "    # determine the correctness of topk predictions\n",
    "    r = []\n",
    "    for user in users:\n",
    "        ground_truth_items = test_user_pos_items[user.item()]\n",
    "        label = list(map(lambda x: x in ground_truth_items, top_K_items[user]))\n",
    "        r.append(label)\n",
    "    r = torch.Tensor(np.array(r).astype('float'))\n",
    "\n",
    "    recall, precision = RecallPrecision_ATk(test_user_pos_items_list, r, k)\n",
    "    ndcg = NDCGatK_r(test_user_pos_items_list, r, k)\n",
    "\n",
    "    return recall, precision, ndcg"
   ]
  },
  {
   "cell_type": "code",
   "execution_count": 14,
   "metadata": {},
   "outputs": [],
   "source": [
    "# wrapper function to evaluate model\n",
    "def evaluation(model, edge_index, sparse_edge_index, exclude_edge_indices, k, lambda_val):\n",
    "    \"\"\"Evaluates model loss and metrics including recall, precision, ndcg @ k\n",
    "\n",
    "    Args:\n",
    "        model (LighGCN): lightgcn model\n",
    "        edge_index (torch.Tensor): 2 by N list of edges for split to evaluate\n",
    "        sparse_edge_index (sparseTensor): sparse adjacency matrix for split to evaluate\n",
    "        exclude_edge_indices ([type]): 2 by N list of edges for split to discount from evaluation\n",
    "        k (int): determines the top k items to compute metrics on\n",
    "        lambda_val (float): determines lambda for bpr loss\n",
    "\n",
    "    Returns:\n",
    "        tuple: bpr loss, recall @ k, precision @ k, ndcg @ k\n",
    "    \"\"\"\n",
    "    # get embeddings\n",
    "    users_emb_final, users_emb_0, items_emb_final, items_emb_0 = model.forward(\n",
    "        sparse_edge_index)\n",
    "    edges = structured_negative_sampling(\n",
    "        edge_index, contains_neg_self_loops=False)\n",
    "    user_indices, pos_item_indices, neg_item_indices = edges[0], edges[1], edges[2]\n",
    "    users_emb_final, users_emb_0 = users_emb_final[user_indices], users_emb_0[user_indices]\n",
    "    pos_items_emb_final, pos_items_emb_0 = items_emb_final[\n",
    "        pos_item_indices], items_emb_0[pos_item_indices]\n",
    "    neg_items_emb_final, neg_items_emb_0 = items_emb_final[\n",
    "        neg_item_indices], items_emb_0[neg_item_indices]\n",
    "\n",
    "    loss = bpr_loss(users_emb_final, users_emb_0, pos_items_emb_final, pos_items_emb_0,\n",
    "                    neg_items_emb_final, neg_items_emb_0, lambda_val).item()\n",
    "\n",
    "    recall, precision, ndcg = get_metrics(\n",
    "        model, edge_index, exclude_edge_indices, k)\n",
    "\n",
    "    return loss, recall, precision, ndcg"
   ]
  },
  {
   "cell_type": "markdown",
   "metadata": {},
   "source": [
    "## Training"
   ]
  },
  {
   "cell_type": "code",
   "execution_count": 15,
   "metadata": {},
   "outputs": [],
   "source": [
    "# define contants\n",
    "ITERATIONS = 10000\n",
    "BATCH_SIZE = 512\n",
    "LR = 1e-3\n",
    "ITERS_PER_EVAL = 200\n",
    "ITERS_PER_LR_DECAY = 200\n",
    "K = 20\n",
    "LAMBDA = 1e-6"
   ]
  },
  {
   "cell_type": "code",
   "execution_count": 16,
   "metadata": {},
   "outputs": [
    {
     "name": "stdout",
     "output_type": "stream",
     "text": [
      "Using device cuda.\n"
     ]
    }
   ],
   "source": [
    "# setup\n",
    "device = torch.device('cuda' if torch.cuda.is_available() else 'cpu')\n",
    "print(f\"Using device {device}.\")\n",
    "\n",
    "model = LightGCN(num_users, num_courses)\n",
    "model = model.to(device)\n",
    "model.train()\n",
    "\n",
    "optimizer = optim.Adam(model.parameters(), lr=LR)\n",
    "scheduler = optim.lr_scheduler.ExponentialLR(optimizer, gamma=0.95)\n",
    "\n",
    "edge_index = edge_index.to(device)\n",
    "train_edge_index = train_edge_index.to(device)\n",
    "train_sparse_edge_index = train_sparse_edge_index.to(device)\n",
    "\n",
    "val_edge_index = val_edge_index.to(device)\n",
    "val_sparse_edge_index = val_sparse_edge_index.to(device)"
   ]
  },
  {
   "cell_type": "code",
   "execution_count": 17,
   "metadata": {},
   "outputs": [
    {
     "name": "stdout",
     "output_type": "stream",
     "text": [
      "[Iteration 0/10000] train_loss: -0.69214, val_loss: -0.69044, val_recall@20: 0.00263, val_precision@20: 0.00052, val_ndcg@20: 0.00145\n",
      "[Iteration 200/10000] train_loss: -1.01839, val_loss: -0.77002, val_recall@20: 0.22349, val_precision@20: 0.02526, val_ndcg@20: 0.13245\n",
      "[Iteration 400/10000] train_loss: -3.85924, val_loss: -1.50887, val_recall@20: 0.23714, val_precision@20: 0.02699, val_ndcg@20: 0.1428\n",
      "[Iteration 600/10000] train_loss: -8.99837, val_loss: -3.03629, val_recall@20: 0.23542, val_precision@20: 0.02656, val_ndcg@20: 0.14191\n",
      "[Iteration 800/10000] train_loss: -14.67982, val_loss: -4.9509, val_recall@20: 0.23807, val_precision@20: 0.0269, val_ndcg@20: 0.14148\n",
      "[Iteration 1000/10000] train_loss: -20.88546, val_loss: -7.24983, val_recall@20: 0.23847, val_precision@20: 0.02716, val_ndcg@20: 0.14527\n",
      "[Iteration 1200/10000] train_loss: -28.67591, val_loss: -9.79579, val_recall@20: 0.24057, val_precision@20: 0.02716, val_ndcg@20: 0.14381\n",
      "[Iteration 1400/10000] train_loss: -34.72079, val_loss: -12.30234, val_recall@20: 0.23884, val_precision@20: 0.0269, val_ndcg@20: 0.14328\n",
      "[Iteration 1600/10000] train_loss: -41.97215, val_loss: -15.39814, val_recall@20: 0.23683, val_precision@20: 0.0269, val_ndcg@20: 0.14253\n",
      "[Iteration 1800/10000] train_loss: -50.2245, val_loss: -18.09358, val_recall@20: 0.23659, val_precision@20: 0.02682, val_ndcg@20: 0.14304\n",
      "[Iteration 2000/10000] train_loss: -59.25565, val_loss: -20.89055, val_recall@20: 0.23659, val_precision@20: 0.02682, val_ndcg@20: 0.14335\n",
      "[Iteration 2200/10000] train_loss: -68.4276, val_loss: -22.98529, val_recall@20: 0.23659, val_precision@20: 0.02682, val_ndcg@20: 0.14384\n",
      "[Iteration 2400/10000] train_loss: -74.02628, val_loss: -25.86319, val_recall@20: 0.23693, val_precision@20: 0.0269, val_ndcg@20: 0.14397\n",
      "[Iteration 2600/10000] train_loss: -86.55816, val_loss: -29.49001, val_recall@20: 0.23762, val_precision@20: 0.02708, val_ndcg@20: 0.14335\n",
      "[Iteration 2800/10000] train_loss: -88.4446, val_loss: -32.12257, val_recall@20: 0.23849, val_precision@20: 0.02716, val_ndcg@20: 0.14366\n",
      "[Iteration 3000/10000] train_loss: -94.4642, val_loss: -34.52288, val_recall@20: 0.23762, val_precision@20: 0.02708, val_ndcg@20: 0.14327\n",
      "[Iteration 3200/10000] train_loss: -103.6461, val_loss: -36.59879, val_recall@20: 0.23762, val_precision@20: 0.02708, val_ndcg@20: 0.14349\n",
      "[Iteration 3400/10000] train_loss: -119.84085, val_loss: -39.45226, val_recall@20: 0.23762, val_precision@20: 0.02708, val_ndcg@20: 0.14354\n",
      "[Iteration 3600/10000] train_loss: -122.42746, val_loss: -42.01404, val_recall@20: 0.23762, val_precision@20: 0.02708, val_ndcg@20: 0.14357\n",
      "[Iteration 3800/10000] train_loss: -123.95584, val_loss: -43.40702, val_recall@20: 0.23787, val_precision@20: 0.02716, val_ndcg@20: 0.14365\n",
      "[Iteration 4000/10000] train_loss: -125.60246, val_loss: -46.72584, val_recall@20: 0.23762, val_precision@20: 0.02708, val_ndcg@20: 0.14348\n",
      "[Iteration 4200/10000] train_loss: -140.54333, val_loss: -48.28802, val_recall@20: 0.23762, val_precision@20: 0.02708, val_ndcg@20: 0.14349\n",
      "[Iteration 4400/10000] train_loss: -139.07649, val_loss: -50.8881, val_recall@20: 0.23762, val_precision@20: 0.02708, val_ndcg@20: 0.14404\n",
      "[Iteration 4600/10000] train_loss: -145.12276, val_loss: -53.13467, val_recall@20: 0.23787, val_precision@20: 0.02716, val_ndcg@20: 0.14347\n",
      "[Iteration 4800/10000] train_loss: -143.08679, val_loss: -55.11436, val_recall@20: 0.23787, val_precision@20: 0.02716, val_ndcg@20: 0.1444\n",
      "[Iteration 5000/10000] train_loss: -172.13263, val_loss: -56.24227, val_recall@20: 0.23787, val_precision@20: 0.02716, val_ndcg@20: 0.1445\n",
      "[Iteration 5200/10000] train_loss: -160.80031, val_loss: -58.93374, val_recall@20: 0.23762, val_precision@20: 0.02708, val_ndcg@20: 0.14373\n",
      "[Iteration 5400/10000] train_loss: -167.74539, val_loss: -59.43676, val_recall@20: 0.23762, val_precision@20: 0.02708, val_ndcg@20: 0.14351\n",
      "[Iteration 5600/10000] train_loss: -171.81253, val_loss: -60.28784, val_recall@20: 0.23762, val_precision@20: 0.02708, val_ndcg@20: 0.14344\n",
      "[Iteration 5800/10000] train_loss: -175.92267, val_loss: -61.52806, val_recall@20: 0.23787, val_precision@20: 0.02716, val_ndcg@20: 0.14357\n",
      "[Iteration 6000/10000] train_loss: -174.4763, val_loss: -63.44014, val_recall@20: 0.23787, val_precision@20: 0.02716, val_ndcg@20: 0.14358\n",
      "[Iteration 6200/10000] train_loss: -187.85617, val_loss: -65.04304, val_recall@20: 0.23787, val_precision@20: 0.02716, val_ndcg@20: 0.14337\n",
      "[Iteration 6400/10000] train_loss: -183.65863, val_loss: -67.08175, val_recall@20: 0.23787, val_precision@20: 0.02716, val_ndcg@20: 0.14312\n",
      "[Iteration 6600/10000] train_loss: -188.19814, val_loss: -68.56896, val_recall@20: 0.23787, val_precision@20: 0.02716, val_ndcg@20: 0.14342\n",
      "[Iteration 6800/10000] train_loss: -197.16327, val_loss: -69.00021, val_recall@20: 0.23787, val_precision@20: 0.02716, val_ndcg@20: 0.14342\n",
      "[Iteration 7000/10000] train_loss: -191.73598, val_loss: -71.35874, val_recall@20: 0.23787, val_precision@20: 0.02716, val_ndcg@20: 0.14342\n",
      "[Iteration 7200/10000] train_loss: -195.82709, val_loss: -72.24274, val_recall@20: 0.23787, val_precision@20: 0.02716, val_ndcg@20: 0.14342\n",
      "[Iteration 7400/10000] train_loss: -210.65532, val_loss: -73.52245, val_recall@20: 0.23787, val_precision@20: 0.02716, val_ndcg@20: 0.1435\n",
      "[Iteration 7600/10000] train_loss: -210.64758, val_loss: -73.42184, val_recall@20: 0.23787, val_precision@20: 0.02716, val_ndcg@20: 0.14357\n",
      "[Iteration 7800/10000] train_loss: -192.59752, val_loss: -74.95564, val_recall@20: 0.23787, val_precision@20: 0.02716, val_ndcg@20: 0.14342\n",
      "[Iteration 8000/10000] train_loss: -198.09874, val_loss: -74.35114, val_recall@20: 0.23787, val_precision@20: 0.02716, val_ndcg@20: 0.14356\n",
      "[Iteration 8200/10000] train_loss: -212.38367, val_loss: -76.65864, val_recall@20: 0.23787, val_precision@20: 0.02716, val_ndcg@20: 0.14356\n",
      "[Iteration 8400/10000] train_loss: -219.16261, val_loss: -77.7734, val_recall@20: 0.23787, val_precision@20: 0.02716, val_ndcg@20: 0.14347\n",
      "[Iteration 8600/10000] train_loss: -232.13838, val_loss: -79.26746, val_recall@20: 0.23787, val_precision@20: 0.02716, val_ndcg@20: 0.14347\n",
      "[Iteration 8800/10000] train_loss: -223.9053, val_loss: -78.65224, val_recall@20: 0.23787, val_precision@20: 0.02716, val_ndcg@20: 0.1435\n",
      "[Iteration 9000/10000] train_loss: -230.99953, val_loss: -80.83191, val_recall@20: 0.23787, val_precision@20: 0.02716, val_ndcg@20: 0.14355\n",
      "[Iteration 9200/10000] train_loss: -224.76965, val_loss: -81.52199, val_recall@20: 0.23787, val_precision@20: 0.02716, val_ndcg@20: 0.14351\n",
      "[Iteration 9400/10000] train_loss: -209.27829, val_loss: -82.38329, val_recall@20: 0.23787, val_precision@20: 0.02716, val_ndcg@20: 0.14347\n",
      "[Iteration 9600/10000] train_loss: -233.34315, val_loss: -80.98073, val_recall@20: 0.23787, val_precision@20: 0.02716, val_ndcg@20: 0.14357\n",
      "[Iteration 9800/10000] train_loss: -233.26276, val_loss: -83.97853, val_recall@20: 0.23787, val_precision@20: 0.02716, val_ndcg@20: 0.1435\n"
     ]
    }
   ],
   "source": [
    "# training loop\n",
    "train_losses = []\n",
    "val_losses = []\n",
    "\n",
    "for iter in range(ITERATIONS):\n",
    "    # forward propagation\n",
    "    users_emb_final, users_emb_0, items_emb_final, items_emb_0 = model.forward(train_sparse_edge_index)\n",
    "\n",
    "    # mini batching\n",
    "    user_indices, pos_item_indices, neg_item_indices = sample_mini_batch(BATCH_SIZE, train_edge_index)\n",
    "    user_indices, pos_item_indices, neg_item_indices = user_indices.to(device), pos_item_indices.to(device), neg_item_indices.to(device)\n",
    "    users_emb_final, users_emb_0 = users_emb_final[user_indices], users_emb_0[user_indices]\n",
    "    pos_items_emb_final, pos_items_emb_0 = items_emb_final[pos_item_indices], items_emb_0[pos_item_indices]\n",
    "    neg_items_emb_final, neg_items_emb_0 = items_emb_final[neg_item_indices], items_emb_0[neg_item_indices]\n",
    "\n",
    "    # loss computation\n",
    "    train_loss = bpr_loss(users_emb_final, users_emb_0, pos_items_emb_final, pos_items_emb_0, neg_items_emb_final, neg_items_emb_0, LAMBDA)\n",
    "\n",
    "    optimizer.zero_grad()\n",
    "    train_loss.backward()\n",
    "    optimizer.step()\n",
    "\n",
    "    if iter % ITERS_PER_EVAL == 0:\n",
    "        model.eval()\n",
    "        val_loss, recall, precision, ndcg = evaluation(\n",
    "            model, val_edge_index, val_sparse_edge_index, [train_edge_index], K, LAMBDA)\n",
    "        print(f\"[Iteration {iter}/{ITERATIONS}] train_loss: {round(train_loss.item(), 5)}, val_loss: {round(val_loss, 5)}, val_recall@{K}: {round(recall, 5)}, val_precision@{K}: {round(precision, 5)}, val_ndcg@{K}: {round(ndcg, 5)}\")\n",
    "        train_losses.append(train_loss.item())\n",
    "        val_losses.append(val_loss)\n",
    "        model.train()\n",
    "\n",
    "    if iter % ITERS_PER_LR_DECAY == 0 and iter != 0:\n",
    "        scheduler.step()"
   ]
  },
  {
   "cell_type": "code",
   "execution_count": 18,
   "metadata": {},
   "outputs": [
    {
     "data": {
      "image/png": "[encoded data removed]",
      "text/plain": [
       "<Figure size 640x480 with 1 Axes>"
      ]
     },
     "metadata": {},
     "output_type": "display_data"
    }
   ],
   "source": [
    "iters = [iter * ITERS_PER_EVAL for iter in range(len(train_losses))]\n",
    "plt.plot(iters, train_losses, label='train')\n",
    "plt.plot(iters, val_losses, label='validation')\n",
    "plt.xlabel('iteration')\n",
    "plt.ylabel('loss')\n",
    "plt.title('training and validation loss curves')\n",
    "plt.legend()\n",
    "plt.show()"
   ]
  },
  {
   "cell_type": "markdown",
   "metadata": {},
   "source": [
    "## Evaluation"
   ]
  },
  {
   "cell_type": "code",
   "execution_count": 19,
   "metadata": {},
   "outputs": [],
   "source": [
    "model.eval()\n",
    "user_pos_items = get_user_positive_items(edge_index)\n",
    "id_to_course = {v: k for k, v in courseIds.items()}"
   ]
  },
  {
   "cell_type": "code",
   "execution_count": 20,
   "metadata": {},
   "outputs": [
    {
     "data": {
      "text/plain": [
       "[277, 56, 94, 62, 8, 97, 5, 98]"
      ]
     },
     "execution_count": 20,
     "metadata": {},
     "output_type": "execute_result"
    }
   ],
   "source": [
    "user_pos_items[35]"
   ]
  },
  {
   "cell_type": "code",
   "execution_count": 21,
   "metadata": {},
   "outputs": [],
   "source": [
    "def make_predictions(user, num_recs, only_new=True):\n",
    "    e_u = model.users_emb.weight[user]\n",
    "    scores = model.items_emb.weight @ e_u\n",
    "\n",
    "    values, indices = torch.topk(scores, k=len(user_pos_items[user]) + num_recs)\n",
    "    indices = [index.item() for index in indices]\n",
    "    \n",
    "    print(f\"Here are classes user {user} has already taken:\")\n",
    "    for index in user_pos_items[user]:\n",
    "        print(id_to_course[index])\n",
    "    print()\n",
    "    \n",
    "    print(f'Here are the top recommended courses{\" (* means already taken)\" if not only_new else \"\"}:')\n",
    "    i = 0\n",
    "    not_yet_taken = 0\n",
    "    while not_yet_taken < num_recs:\n",
    "        if not only_new or indices[i] not in user_pos_items[user]:\n",
    "            print(f\"{id_to_course[indices[i]]} {'(*)' if indices[i] in user_pos_items[user] else ''}\")\n",
    "        if indices[i] not in user_pos_items[user]:\n",
    "            not_yet_taken += 1\n",
    "        i += 1\n"
   ]
  },
  {
   "cell_type": "code",
   "execution_count": 25,
   "metadata": {},
   "outputs": [
    {
     "name": "stdout",
     "output_type": "stream",
     "text": [
      "Here are classes user 10 has already taken:\n",
      "COLLEGE101\n",
      "HISTORY9N\n",
      "POLISCI1\n",
      "SYMSYS1\n",
      "SYMSYS280\n",
      "CHEM29N\n",
      "ECON102A\n",
      "FRENLANG15\n",
      "MATH51\n",
      "PHIL76\n",
      "COLLEGE109\n",
      "CS106A\n",
      "PWR1NF\n",
      "\n",
      "Here are the top recommended courses:\n",
      "CS106B \n",
      "COLLEGE102 \n",
      "CS107 \n",
      "CS109 \n",
      "CS103 \n"
     ]
    }
   ],
   "source": [
    "USER_ID = 10\n",
    "NUM_RECS = 5\n",
    "\n",
    "make_predictions(USER_ID, NUM_RECS)"
   ]
  },
  {
   "cell_type": "code",
   "execution_count": null,
   "metadata": {},
   "outputs": [],
   "source": []
  }
 ],
 "metadata": {
  "kernelspec": {
   "display_name": "2023",
   "language": "python",
   "name": "python3"
  },
  "language_info": {
   "codemirror_mode": {
    "name": "ipython",
    "version": 3
   },
   "file_extension": ".py",
   "mimetype": "text/x-python",
   "name": "python",
   "nbconvert_exporter": "python",
   "pygments_lexer": "ipython3",
   "version": "3.11.5"
  }
 },
 "nbformat": 4,
 "nbformat_minor": 2
}
