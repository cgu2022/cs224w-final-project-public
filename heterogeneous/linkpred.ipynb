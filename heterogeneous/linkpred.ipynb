{
 "cells": [
  {
   "cell_type": "markdown",
   "metadata": {},
   "source": [
    "# Heterogeneous Graph Neural Network for Link Prediction\n",
    "This notebook demonstrates the implementation of a Graph Neural Network (GNN) for link prediction in heterogeneous networks. We use PyTorch and PyTorch Geometric for building and training the model. The notebook is structured to provide clarity and a step-by-step approach to the process.\n"
   ]
  },
  {
   "cell_type": "code",
   "execution_count": null,
   "metadata": {},
   "outputs": [],
   "source": []
  },
  {
   "cell_type": "code",
   "execution_count": 3,
   "metadata": {},
   "outputs": [
    {
     "ename": "ModuleNotFoundError",
     "evalue": "No module named 'torch_sparse'",
     "output_type": "error",
     "traceback": [
      "\u001b[1;31m---------------------------------------------------------------------------\u001b[0m",
      "\u001b[1;31mModuleNotFoundError\u001b[0m                       Traceback (most recent call last)",
      "Cell \u001b[1;32mIn[3], line 22\u001b[0m\n\u001b[0;32m     20\u001b[0m \u001b[38;5;28;01mfrom\u001b[39;00m \u001b[38;5;21;01mdeepsnap\u001b[39;00m\u001b[38;5;21;01m.\u001b[39;00m\u001b[38;5;21;01mdataset\u001b[39;00m \u001b[38;5;28;01mimport\u001b[39;00m GraphDataset\n\u001b[0;32m     21\u001b[0m \u001b[38;5;28;01mfrom\u001b[39;00m \u001b[38;5;21;01mdeepsnap\u001b[39;00m\u001b[38;5;21;01m.\u001b[39;00m\u001b[38;5;21;01mbatch\u001b[39;00m \u001b[38;5;28;01mimport\u001b[39;00m Batch\n\u001b[1;32m---> 22\u001b[0m \u001b[38;5;28;01mfrom\u001b[39;00m \u001b[38;5;21;01mdeepsnap\u001b[39;00m\u001b[38;5;21;01m.\u001b[39;00m\u001b[38;5;21;01mhetero_gnn\u001b[39;00m \u001b[38;5;28;01mimport\u001b[39;00m (\n\u001b[0;32m     23\u001b[0m     HeteroSAGEConv,\n\u001b[0;32m     24\u001b[0m     HeteroConv,\n\u001b[0;32m     25\u001b[0m     forward_op\n\u001b[0;32m     26\u001b[0m )\n",
      "File \u001b[1;32mc:\\Users\\chris\\anaconda3\\envs\\test_gpu\\lib\\site-packages\\deepsnap\\__init__.py:9\u001b[0m\n\u001b[0;32m      7\u001b[0m \u001b[38;5;28;01mimport\u001b[39;00m \u001b[38;5;21;01mdeepsnap\u001b[39;00m\u001b[38;5;21;01m.\u001b[39;00m\u001b[38;5;21;01mbatch\u001b[39;00m\n\u001b[0;32m      8\u001b[0m \u001b[38;5;28;01mimport\u001b[39;00m \u001b[38;5;21;01mdeepsnap\u001b[39;00m\u001b[38;5;21;01m.\u001b[39;00m\u001b[38;5;21;01mhetero_graph\u001b[39;00m\n\u001b[1;32m----> 9\u001b[0m \u001b[38;5;28;01mimport\u001b[39;00m \u001b[38;5;21;01mdeepsnap\u001b[39;00m\u001b[38;5;21;01m.\u001b[39;00m\u001b[38;5;21;01mhetero_gnn\u001b[39;00m\n\u001b[0;32m     11\u001b[0m \u001b[38;5;28;01mimport\u001b[39;00m \u001b[38;5;21;01mnetworkx\u001b[39;00m \u001b[38;5;28;01mas\u001b[39;00m \u001b[38;5;21;01m_netlib\u001b[39;00m\n\u001b[0;32m     13\u001b[0m __version__ \u001b[38;5;241m=\u001b[39m \u001b[38;5;124m\"\u001b[39m\u001b[38;5;124m0.2.1\u001b[39m\u001b[38;5;124m\"\u001b[39m\n",
      "File \u001b[1;32mc:\\Users\\chris\\anaconda3\\envs\\test_gpu\\lib\\site-packages\\deepsnap\\hetero_gnn.py:9\u001b[0m\n\u001b[0;32m      7\u001b[0m \u001b[38;5;28;01mfrom\u001b[39;00m \u001b[38;5;21;01mtorch\u001b[39;00m \u001b[38;5;28;01mimport\u001b[39;00m Tensor\n\u001b[0;32m      8\u001b[0m \u001b[38;5;28;01mfrom\u001b[39;00m \u001b[38;5;21;01mtorch_geometric\u001b[39;00m\u001b[38;5;21;01m.\u001b[39;00m\u001b[38;5;21;01mnn\u001b[39;00m\u001b[38;5;21;01m.\u001b[39;00m\u001b[38;5;21;01minits\u001b[39;00m \u001b[38;5;28;01mimport\u001b[39;00m reset\n\u001b[1;32m----> 9\u001b[0m \u001b[38;5;28;01mfrom\u001b[39;00m \u001b[38;5;21;01mtorch_sparse\u001b[39;00m \u001b[38;5;28;01mimport\u001b[39;00m matmul\n\u001b[0;32m     10\u001b[0m \u001b[38;5;28;01mfrom\u001b[39;00m \u001b[38;5;21;01mtyping\u001b[39;00m \u001b[38;5;28;01mimport\u001b[39;00m (\n\u001b[0;32m     11\u001b[0m     List,\n\u001b[0;32m     12\u001b[0m     Dict,\n\u001b[0;32m     13\u001b[0m )\n\u001b[0;32m     15\u001b[0m \u001b[38;5;66;03m# TODO: add another new \"HeteroSAGEConv\" add edge_features\u001b[39;00m\n",
      "\u001b[1;31mModuleNotFoundError\u001b[0m: No module named 'torch_sparse'"
     ]
    }
   ],
   "source": [
    "import argparse\n",
    "import copy\n",
    "import time\n",
    "\n",
    "import pickle\n",
    "import numpy as np\n",
    "import networkx as nx \n",
    "import sklearn.metrics as metrics\n",
    "import torch\n",
    "import torch.nn as nn\n",
    "import torch.nn.functional as F\n",
    "from torch.utils.data import DataLoader\n",
    "\n",
    "from torch_geometric.datasets import Planetoid\n",
    "from torch_geometric.datasets import TUDataset\n",
    "import torch_geometric.transforms as T\n",
    "import torch_geometric.nn as pyg_nn\n",
    "\n",
    "from deepsnap.hetero_graph import HeteroGraph\n",
    "from deepsnap.dataset import GraphDataset\n",
    "from deepsnap.batch import Batch\n",
    "from deepsnap.hetero_gnn import (\n",
    "    HeteroSAGEConv,\n",
    "    HeteroConv,\n",
    "    forward_op\n",
    ")"
   ]
  },
  {
   "cell_type": "code",
   "execution_count": 4,
   "metadata": {},
   "outputs": [
    {
     "name": "stdout",
     "output_type": "stream",
     "text": [
      "Tue Dec 12 23:51:57 2023       \n",
      "+---------------------------------------------------------------------------------------+\n",
      "| NVIDIA-SMI 531.41                 Driver Version: 531.41       CUDA Version: 12.1     |\n",
      "|-----------------------------------------+----------------------+----------------------+\n",
      "| GPU  Name                      TCC/WDDM | Bus-Id        Disp.A | Volatile Uncorr. ECC |\n",
      "| Fan  Temp  Perf            Pwr:Usage/Cap|         Memory-Usage | GPU-Util  Compute M. |\n",
      "|                                         |                      |               MIG M. |\n",
      "|=========================================+======================+======================|\n",
      "|   0  NVIDIA GeForce RTX 3050 T...  WDDM | 00000000:F3:00.0 Off |                  N/A |\n",
      "| N/A   39C    P8                6W /  N/A|      0MiB /  4096MiB |      0%      Default |\n",
      "|                                         |                      |                  N/A |\n",
      "+-----------------------------------------+----------------------+----------------------+\n",
      "                                                                                         \n",
      "+---------------------------------------------------------------------------------------+\n",
      "| Processes:                                                                            |\n",
      "|  GPU   GI   CI        PID   Type   Process name                            GPU Memory |\n",
      "|        ID   ID                                                             Usage      |\n",
      "|=======================================================================================|\n",
      "|  No running processes found                                                           |\n",
      "+---------------------------------------------------------------------------------------+\n"
     ]
    }
   ],
   "source": [
    "!nvidia-smi"
   ]
  },
  {
   "cell_type": "markdown",
   "metadata": {},
   "source": [
    "### Cell 3: Argument Parsing Function"
   ]
  },
  {
   "cell_type": "code",
   "execution_count": null,
   "metadata": {},
   "outputs": [],
   "source": [
    "def arg_parse():\n",
    "    parser = argparse.ArgumentParser(description='Link pred arguments.')\n",
    "    parser.add_argument('--device', type=str,\n",
    "                        help='CPU / GPU device.')\n",
    "    parser.add_argument('--data_path', type=str,\n",
    "                        help='Path to wordnet nx gpickle file.')\n",
    "    parser.add_argument('--epochs', type=int,\n",
    "                        help='Number of epochs to train.')\n",
    "    parser.add_argument('--mode', type=str,\n",
    "                        help='Link prediction mode. Disjoint or all.')\n",
    "    parser.add_argument('--edge_message_ratio', type=float,\n",
    "                        help='Ratio of edges used for message-passing (only in disjoint mode).')\n",
    "    parser.add_argument('--hidden_dim', type=int,\n",
    "                        help='Hidden dimension of GNN.')\n",
    "    parser.add_argument('--lr', type=float,\n",
    "                        help='The learning rate.')\n",
    "    parser.add_argument('--weight_decay', type=float,\n",
    "                        help='Weight decay.')\n",
    "\n",
    "    parser.set_defaults(\n",
    "            device='cuda:0',\n",
    "            data_path='data/oncourse.pkl',\n",
    "            epochs=200, # originally 200\n",
    "            mode='disjoint',\n",
    "            edge_message_ratio=0.8,\n",
    "            hidden_dim=32,\n",
    "            lr=0.01,\n",
    "            weight_decay=1e-4,\n",
    "    )\n",
    "    return parser.parse_args()\n"
   ]
  },
  {
   "cell_type": "markdown",
   "metadata": {},
   "source": [
    "### Cell 4: Data Transformation Function"
   ]
  },
  {
   "cell_type": "code",
   "execution_count": null,
   "metadata": {},
   "outputs": [],
   "source": [
    "def WN_transform(G, num_edge_types, input_dim=5):\n",
    "    # Function to transform the data\n",
    "        H = nx.MultiDiGraph()\n",
    "    for node in G.nodes():\n",
    "        #node_label=G.nodes[node]['node_type']\n",
    "        H.add_node(node, node_type='n1', node_feature=torch.ones(input_dim))\n",
    "    for u, v, edge_key in G.edges:\n",
    "        l = G[u][v][edge_key]['e_label']\n",
    "        e_feat = torch.zeros(num_edge_types)\n",
    "        e_feat[l] = 1.\n",
    "        H.add_edge(u, v, edge_feature=e_feat, edge_type=str(l.item()))\n",
    "    return H"
   ]
  }
 ],
 "metadata": {
  "kernelspec": {
   "display_name": "ReactGenie",
   "language": "python",
   "name": "python3"
  },
  "language_info": {
   "codemirror_mode": {
    "name": "ipython",
    "version": 3
   },
   "file_extension": ".py",
   "mimetype": "text/x-python",
   "name": "python",
   "nbconvert_exporter": "python",
   "pygments_lexer": "ipython3",
   "version": "3.8.16"
  }
 },
 "nbformat": 4,
 "nbformat_minor": 2
}
