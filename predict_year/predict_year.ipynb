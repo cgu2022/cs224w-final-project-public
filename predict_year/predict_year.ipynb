{
 "cells": [
  {
   "cell_type": "code",
   "execution_count": 2,
   "metadata": {},
   "outputs": [],
   "source": [
    "import json\n",
    "import numpy as np\n",
    "from scipy.special import softmax"
   ]
  },
  {
   "cell_type": "code",
   "execution_count": 3,
   "metadata": {},
   "outputs": [],
   "source": [
    "with open(\"../new_planned_courses.json\") as f:\n",
    "    planned_courses = json.load(f)\n",
    "\n",
    "with open(\"../metrics.json\") as f:\n",
    "    metrics = json.load(f)"
   ]
  },
  {
   "cell_type": "code",
   "execution_count": 4,
   "metadata": {},
   "outputs": [],
   "source": [
    "years = [\"Freshman\", \"Sophomore\", \"Junior\", \"Senior\", \"5+ Year Undergrad\", \"Coterm\", \"Professional Degree\", \"Master's\", \"PhD/Doctoral\", \"SCPD/Nonmatriculated\", \"Other\"]\n",
    "year_to_index = {years[i]: i for i in range(len(years))}\n",
    "nextYear = {\n",
    "    \"Freshman\": \"Sophomore\",\n",
    "    \"Sophomore\": \"Junior\",\n",
    "    \"Junior\": \"Senior\",\n",
    "    \"Senior\": \"Coterm\",\n",
    "    \"5+ Year Undergrad\": \"5+ Year Undergrad\",\n",
    "    \"Coterm\": \"Coterm\",\n",
    "    \"Professional Degree\": \"Professional Degree\",\n",
    "    \"Master's\": \"Master's\",\n",
    "    \"PhD/Doctoral\": \"PhD/Doctoral\",\n",
    "    \"SCPD/Nonmatriculated\": \"SCPD/Nonmatriculated\",\n",
    "    \"Other\": \"Other\"\n",
    "}\n",
    "index_to_index = {year_to_index[key]: year_to_index[nextYear[key]] for key in nextYear}"
   ]
  },
  {
   "cell_type": "code",
   "execution_count": 5,
   "metadata": {},
   "outputs": [],
   "source": [
    "# convert raw metrics to probabilities, with some buffer\n",
    "BUFFER = 1\n",
    "year_probs = {}\n",
    "\n",
    "for course in metrics:\n",
    "    if metrics[course] is not None and 'years' in metrics[course]:\n",
    "        total = sum(metrics[course]['years']) + BUFFER * len(years)\n",
    "        year_probs[course] = np.array([((num + BUFFER) / total) for num in metrics[course]['years']])\n",
    "    else: # assume equally likely if no data is given\n",
    "        year_probs[course] = np.ones(len(years)) / len(years)"
   ]
  },
  {
   "cell_type": "code",
   "execution_count": 6,
   "metadata": {},
   "outputs": [],
   "source": [
    "CURRENT_YEAR = 2023\n",
    "\n",
    "def class_probability(person):\n",
    "    p = np.ones(len(years))\n",
    "    mappings = {j : j for j in index_to_index}\n",
    "    for year in range(CURRENT_YEAR, CURRENT_YEAR - 6, -1):\n",
    "        for quarter in range(4):\n",
    "            p_quarter = np.ones(len(years))\n",
    "            code = str(year) + \"-\" + str(quarter)\n",
    "            if code not in person: continue\n",
    "            \n",
    "            for course in person[code]:\n",
    "                min_p_course = min(year_probs[course])\n",
    "                p_course = np.ones(len(years)) * min_p_course\n",
    "                for i in range(len(years)):\n",
    "                    p_course[mappings[i]] += year_probs[course][i]\n",
    "                p_quarter *= p_course\n",
    "            \n",
    "            p_quarter /= np.sum(p_quarter)\n",
    "            p *= p_quarter\n",
    "        mappings = {j : index_to_index[mappings[j]] for j in mappings}\n",
    "    p /= np.sum(p)\n",
    "    return p"
   ]
  },
  {
   "cell_type": "code",
   "execution_count": 7,
   "metadata": {},
   "outputs": [
    {
     "name": "stdout",
     "output_type": "stream",
     "text": [
      "1335\n"
     ]
    }
   ],
   "source": [
    "for user in planned_courses:\n",
    "    if planned_courses[user] is not None:\n",
    "        if '2023-0' in planned_courses[user]:\n",
    "            classes = ['CS229', 'CS265', 'MATH155', 'MATH193']\n",
    "            stuff = [course in planned_courses[user]['2023-0'] for course in classes]\n",
    "            if all(stuff):\n",
    "                print(user)"
   ]
  },
  {
   "cell_type": "code",
   "execution_count": 8,
   "metadata": {},
   "outputs": [
    {
     "name": "stdout",
     "output_type": "stream",
     "text": [
      "[0.         0.99866209 0.00133791 0.         0.         0.\n",
      " 0.         0.         0.         0.         0.        ]\n"
     ]
    },
    {
     "data": {
      "text/plain": [
       "{'2022-0': ['COLLEGE101', 'CS106B', 'CS529', 'MATH51', 'STS10SI'],\n",
       " '2022-1': ['CME510',\n",
       "  'CS103',\n",
       "  'CS106L',\n",
       "  'CS529',\n",
       "  'DATASCI112',\n",
       "  'EE292T',\n",
       "  'PHYSICS41',\n",
       "  'PWR1OS'],\n",
       " '2022-2': ['COLLEGE112', 'CS109', 'CS161', 'CS198', 'STATS100'],\n",
       " '2023-0': ['CEE252',\n",
       "  'CS107',\n",
       "  'CS221',\n",
       "  'FRENLANG1',\n",
       "  'PHYSWELL36',\n",
       "  'RESTRICTED'],\n",
       " '2023-1': ['CS129', 'CS224N', 'CS246', 'MATH104', 'PWR2STA', 'STATS200'],\n",
       " '2023-2': ['CS227B',\n",
       "  'CS41',\n",
       "  'EE104',\n",
       "  'ENGR76',\n",
       "  'FINANCE637',\n",
       "  'LAW1040',\n",
       "  'MATH104',\n",
       "  'MATH21',\n",
       "  'STATS191',\n",
       "  'STATS203',\n",
       "  'STATS217'],\n",
       " '2024-0': ['CS148', 'CS229', 'INTLPOL268'],\n",
       " '2024-1': ['ECON1']}"
      ]
     },
     "execution_count": 8,
     "metadata": {},
     "output_type": "execute_result"
    }
   ],
   "source": [
    "user = \"1100\"\n",
    "np.set_printoptions(suppress=True)\n",
    "print(class_probability(planned_courses[user]))\n",
    "planned_courses[user]"
   ]
  },
  {
   "cell_type": "code",
   "execution_count": 9,
   "metadata": {},
   "outputs": [],
   "source": [
    "year_preds = {}\n",
    "# year_preds[\"years\"] = years\n",
    "for user in planned_courses:\n",
    "    year_preds[user] = list(class_probability(planned_courses[user]))"
   ]
  },
  {
   "cell_type": "code",
   "execution_count": 35,
   "metadata": {},
   "outputs": [
    {
     "name": "stdout",
     "output_type": "stream",
     "text": [
      "total users: 2173\n",
      "\n",
      "based on highest likelihood:\n",
      "Freshman: 830\n",
      "Sophomore: 664\n",
      "Junior: 392\n",
      "Senior: 166\n",
      "5+ Year Undergrad: 0\n",
      "Coterm: 19\n",
      "Professional Degree: 2\n",
      "Master's: 80\n",
      "PhD/Doctoral: 18\n",
      "SCPD/Nonmatriculated: 1\n",
      "Other: 1\n",
      "\n",
      "unconfident: 255\n",
      "\n",
      "\n",
      "based on sampling of probability distribution:\n",
      "Freshman: 784\n",
      "Sophomore: 666\n",
      "Junior: 405\n",
      "Senior: 174\n",
      "5+ Year Undergrad: 8\n",
      "Coterm: 24\n",
      "Professional Degree: 6\n",
      "Master's: 66\n",
      "PhD/Doctoral: 22\n",
      "SCPD/Nonmatriculated: 13\n",
      "Other: 5\n",
      "\n"
     ]
    }
   ],
   "source": [
    "counts = [0 for _ in range(len(years))]\n",
    "unconfident = []\n",
    "for user in year_preds:\n",
    "    if len(planned_courses[user]) == 0: continue\n",
    "    counts[np.argmax(year_preds[user])] += 1\n",
    "    if np.max(year_preds[user]) < 0.5:\n",
    "        unconfident.append(user)\n",
    "\n",
    "print(\"total users:\", sum(counts))\n",
    "print()\n",
    "\n",
    "print(\"based on highest likelihood:\")\n",
    "for i in range(len(years)):\n",
    "    print(str(years[i]) + \":\", counts[i])\n",
    "print()\n",
    "print(\"unconfident:\", len(unconfident))\n",
    "print()\n",
    "print()\n",
    "\n",
    "print(\"based on sampling of probability distribution:\")\n",
    "rng = np.random.default_rng(0)\n",
    "counts = [0 for _ in range(len(years))]\n",
    "for user in year_preds:\n",
    "    if len(planned_courses[user]) == 0: continue\n",
    "    sampled_year = rng.choice(np.arange(len(years)), p=year_preds[user])\n",
    "    counts[sampled_year] += 1\n",
    "for i in range(len(years)):\n",
    "    print(str(years[i]) + \":\", counts[i])\n",
    "print()"
   ]
  },
  {
   "cell_type": "code",
   "execution_count": 12,
   "metadata": {},
   "outputs": [
    {
     "name": "stdout",
     "output_type": "stream",
     "text": [
      "average number of classes pinned for unconfident users:\n",
      "1.1568627450980393\n"
     ]
    }
   ],
   "source": [
    "avg_classes = 0\n",
    "for user in unconfident:\n",
    "    avg_classes += len(planned_courses[user])\n",
    "avg_classes /= len(unconfident)\n",
    "print(\"average number of classes pinned for unconfident users:\")\n",
    "print(avg_classes)"
   ]
  },
  {
   "cell_type": "code",
   "execution_count": 166,
   "metadata": {},
   "outputs": [],
   "source": [
    "with open(\"year_predictions.json\", \"w\") as f:\n",
    "    json.dump(year_preds, f)"
   ]
  }
 ],
 "metadata": {
  "kernelspec": {
   "display_name": "224W",
   "language": "python",
   "name": "python3"
  },
  "language_info": {
   "codemirror_mode": {
    "name": "ipython",
    "version": 3
   },
   "file_extension": ".py",
   "mimetype": "text/x-python",
   "name": "python",
   "nbconvert_exporter": "python",
   "pygments_lexer": "ipython3",
   "version": "3.11.5"
  }
 },
 "nbformat": 4,
 "nbformat_minor": 2
}
