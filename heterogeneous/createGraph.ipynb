{
 "cells": [
  {
   "cell_type": "code",
   "execution_count": 74,
   "metadata": {},
   "outputs": [],
   "source": [
    "import networkx as nx\n",
    "import json\n",
    "import torch"
   ]
  },
  {
   "cell_type": "code",
   "execution_count": 75,
   "metadata": {},
   "outputs": [],
   "source": [
    "with open(\"../new_planned_courses.json\") as f:\n",
    "    planned_courses = json.load(f)\n",
    "\n",
    "edges = []\n",
    "course_set = set()\n",
    "for user in planned_courses:\n",
    "    courses = []\n",
    "    for quarter in planned_courses[user]:\n",
    "        courses += planned_courses[user][quarter]\n",
    "    if len(courses) < 2: continue\n",
    "    edges.append(courses)\n",
    "    for course in courses:\n",
    "        if course not in course_set: course_set.add(course)"
   ]
  },
  {
   "cell_type": "code",
   "execution_count": 76,
   "metadata": {},
   "outputs": [],
   "source": [
    "users = [f\"user{i}\" for i in range(len(edges))]\n",
    "pinned = []\n",
    "for i, user in enumerate(users):\n",
    "    for course in edges[i]:\n",
    "        pinned.append((user, course))\n",
    "\n",
    "G = nx.MultiDiGraph()\n",
    "G.add_nodes_from(users, node_type=\"user\")\n",
    "G.add_nodes_from(list(course_set), node_type=\"course\")\n",
    "G.add_edges_from(pinned, edge_type=\"pin\")\n",
    "\n",
    "node_to_nid = {node : torch.tensor([i]) for i, node in enumerate(G.nodes)}\n",
    "nx.set_node_attributes(G, node_to_nid, 'n_id')\n",
    "\n",
    "edge_to_id = {edge : i for i, edge in enumerate(G.edges)}\n",
    "edge_to_elabel = {edge : torch.tensor(0) for edge in G.edges}\n",
    "nx.set_edge_attributes(G, edge_to_id, 'id')\n",
    "nx.set_edge_attributes(G, edge_to_elabel, 'e_label')"
   ]
  },
  {
   "cell_type": "code",
   "execution_count": 77,
   "metadata": {},
   "outputs": [],
   "source": [
    "import pickle\n",
    "\n",
    "with open(\"data/oncourse.pkl\", 'wb') as f:\n",
    "    pickle.dump(G, f)"
   ]
  },
  {
   "cell_type": "markdown",
   "metadata": {},
   "source": [
    "## check the graph"
   ]
  },
  {
   "cell_type": "code",
   "execution_count": 1,
   "metadata": {},
   "outputs": [],
   "source": [
    "import pickle\n",
    "\n",
    "with open(\"data/oncourse.pkl\", \"rb\") as f:\n",
    "    G = pickle.load(f)"
   ]
  },
  {
   "cell_type": "code",
   "execution_count": 2,
   "metadata": {},
   "outputs": [
    {
     "data": {
      "text/plain": [
       "6253"
      ]
     },
     "execution_count": 2,
     "metadata": {},
     "output_type": "execute_result"
    }
   ],
   "source": [
    "len(G.nodes)"
   ]
  },
  {
   "cell_type": "code",
   "execution_count": 5,
   "metadata": {},
   "outputs": [
    {
     "data": {
      "text/plain": [
       "AdjacencyView({'CS224V': {0: {'edge_type': 'pin', 'id': 0, 'e_label': tensor(0)}}, 'CS229': {0: {'edge_type': 'pin', 'id': 1, 'e_label': tensor(0)}}, 'CS238': {0: {'edge_type': 'pin', 'id': 2, 'e_label': tensor(0)}}, 'PHYSICS61': {0: {'edge_type': 'pin', 'id': 3, 'e_label': tensor(0)}}})"
      ]
     },
     "execution_count": 5,
     "metadata": {},
     "output_type": "execute_result"
    }
   ],
   "source": [
    "G['user0']"
   ]
  },
  {
   "cell_type": "code",
   "execution_count": null,
   "metadata": {},
   "outputs": [],
   "source": []
  }
 ],
 "metadata": {
  "kernelspec": {
   "display_name": "224W",
   "language": "python",
   "name": "python3"
  },
  "language_info": {
   "codemirror_mode": {
    "name": "ipython",
    "version": 3
   },
   "file_extension": ".py",
   "mimetype": "text/x-python",
   "name": "python",
   "nbconvert_exporter": "python",
   "pygments_lexer": "ipython3",
   "version": "3.11.5"
  }
 },
 "nbformat": 4,
 "nbformat_minor": 2
}
